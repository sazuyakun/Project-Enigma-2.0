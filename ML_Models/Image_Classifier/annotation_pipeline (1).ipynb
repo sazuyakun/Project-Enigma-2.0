{
 "cells": [
  {
   "cell_type": "code",
   "execution_count": 1,
   "metadata": {},
   "outputs": [],
   "source": [
    "import cv2\n",
    "from roboflow import Roboflow\n"
   ]
  },
  {
   "cell_type": "code",
   "execution_count": 2,
   "metadata": {},
   "outputs": [
    {
     "name": "stdout",
     "output_type": "stream",
     "text": [
      "loading Roboflow workspace...\n",
      "loading Roboflow project...\n"
     ]
    }
   ],
   "source": [
    "rf = Roboflow(api_key=\"W6DgvDUjwI7kvKIKjVmr\")\n",
    "project = rf.workspace().project(\"drug-detection-z6yhe\")\n",
    "model = project.version(\"1\").model"
   ]
  },
  {
   "cell_type": "code",
   "execution_count": 3,
   "metadata": {},
   "outputs": [],
   "source": [
    "job_id, signed_url, expire_time = model.predict_video(\n",
    "    \"/Users/bibhusundarmohapatra/Desktop/robflow_nitrr/Project-Enigma/ML_Models/Image_Classifier/test_video.mp4\",\n",
    "    fps=5,\n",
    "    prediction_type=\"batch-video\",\n",
    ")"
   ]
  },
  {
   "cell_type": "code",
   "execution_count": 4,
   "metadata": {},
   "outputs": [
    {
     "name": "stdout",
     "output_type": "stream",
     "text": [
      "Checking for video inference results for job 145ae583-c047-4945-8d89-36228dd116e2 every 60s\n",
      "(0s): Checking for inference results\n"
     ]
    }
   ],
   "source": [
    "results = model.poll_until_video_results(job_id)"
   ]
  },
  {
   "cell_type": "code",
   "execution_count": 8,
   "metadata": {},
   "outputs": [],
   "source": [
    "cap = cv2.VideoCapture(\"/Users/bibhusundarmohapatra/Desktop/robflow_nitrr/Project-Enigma/ML_Models/Image_Classifier/test_video.mp4\")\n",
    "frame_width = int(cap.get(cv2.CAP_PROP_FRAME_WIDTH))\n",
    "frame_height = int(cap.get(cv2.CAP_PROP_FRAME_HEIGHT))"
   ]
  },
  {
   "cell_type": "code",
   "execution_count": 9,
   "metadata": {},
   "outputs": [],
   "source": [
    "out = cv2.VideoWriter('annotated_output.mp4', cv2.VideoWriter_fourcc(*'mp4v'), 5, (frame_width, frame_height))"
   ]
  },
  {
   "cell_type": "code",
   "execution_count": 6,
   "metadata": {},
   "outputs": [],
   "source": [
    "for idx, frame_result in enumerate(results['drug-detection-z6yhe']):\n",
    "    # Read each frame of the original video\n",
    "    ret, frame = cap.read()\n",
    "    if not ret:\n",
    "        break\n",
    "\n",
    "    # Loop through each prediction in the current frame result\n",
    "    for prediction in frame_result['predictions']:\n",
    "        x = int(prediction['x'])\n",
    "        y = int(prediction['y'])\n",
    "        width = int(prediction['width'])\n",
    "        height = int(prediction['height'])\n",
    "        confidence = prediction['confidence']\n",
    "        label = f\"{prediction['class']} ({confidence:.2f})\"\n",
    "\n",
    "        # Draw rectangle and put text on the frame\n",
    "        cv2.rectangle(frame, (x, y), (x + width, y + height), (0, 255, 0), 2)\n",
    "        cv2.putText(frame, label, (x, y - 10), cv2.FONT_HERSHEY_SIMPLEX, 0.5, (0, 255, 0), 2)\n",
    "\n",
    "    # Display the annotated frame\n",
    "    cv2.imshow(\"predicted Video\", frame)\n",
    "\n",
    "    # Press 'q' to exit early\n",
    "    if cv2.waitKey(100):  # 100 ms delay for the next frame\n",
    "        break\n",
    "\n",
    "# Release resources\n",
    "cap.release()\n",
    "cv2.destroyAllWindows()"
   ]
  },
  {
   "cell_type": "code",
   "execution_count": 7,
   "metadata": {},
   "outputs": [],
   "source": [
    "cv2.destroyAllWindows()"
   ]
  },
  {
   "cell_type": "code",
   "execution_count": 10,
   "metadata": {},
   "outputs": [
    {
     "name": "stdout",
     "output_type": "stream",
     "text": [
      "Annotated video has been saved as 'annotated_output.mp4'\n"
     ]
    }
   ],
   "source": [
    "for idx, frame_result in enumerate(results['drug-detection-z6yhe']):\n",
    "    # Read each frame of the original video\n",
    "    ret, frame = cap.read()\n",
    "    if not ret:\n",
    "        break\n",
    "    \n",
    "    # Loop through each prediction in the current frame result\n",
    "    for prediction in frame_result['predictions']:\n",
    "        x = int(prediction['x'])\n",
    "        y = int(prediction['y'])\n",
    "        width = int(prediction['width'])\n",
    "        height = int(prediction['height'])\n",
    "        confidence = prediction['confidence']\n",
    "        label = f\"{prediction['class']} ({confidence:.2f})\"\n",
    "\n",
    "        # Draw rectangle and put text on the frame\n",
    "        cv2.rectangle(frame, (x, y), (x + width, y + height), (0, 255, 0), 2)\n",
    "        cv2.putText(frame, label, (x, y - 10), cv2.FONT_HERSHEY_SIMPLEX, 0.5, (0, 255, 0), 2)\n",
    "\n",
    "    # Write the annotated frame to the output video\n",
    "    out.write(frame)\n",
    "\n",
    "# Release resources\n",
    "cap.release()\n",
    "out.release()\n",
    "cv2.destroyAllWindows()\n",
    "\n",
    "print(\"Annotated video has been saved as 'annotated_output.mp4'\")"
   ]
  },
  {
   "cell_type": "code",
   "execution_count": null,
   "metadata": {},
   "outputs": [],
   "source": []
  }
 ],
 "metadata": {
  "kernelspec": {
   "display_name": "base",
   "language": "python",
   "name": "python3"
  },
  "language_info": {
   "codemirror_mode": {
    "name": "ipython",
    "version": 3
   },
   "file_extension": ".py",
   "mimetype": "text/x-python",
   "name": "python",
   "nbconvert_exporter": "python",
   "pygments_lexer": "ipython3",
   "version": "3.12.2"
  }
 },
 "nbformat": 4,
 "nbformat_minor": 2
}
